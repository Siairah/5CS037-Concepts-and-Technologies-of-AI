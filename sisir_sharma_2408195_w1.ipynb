{
  "nbformat": 4,
  "nbformat_minor": 0,
  "metadata": {
    "colab": {
      "provenance": []
    },
    "kernelspec": {
      "name": "python3",
      "display_name": "Python 3"
    },
    "language_info": {
      "name": "python"
    }
  },
  "cells": [
    {
      "cell_type": "code",
      "execution_count": null,
      "metadata": {
        "colab": {
          "base_uri": "https://localhost:8080/"
        },
        "id": "_kUUrwVQXS7T",
        "outputId": "00ad3427-d6f5-4f42-c032-7cb84868fdc5"
      },
      "outputs": [
        {
          "output_type": "stream",
          "name": "stdout",
          "text": [
            "[[0. 0.]\n",
            " [0. 0.]]\n"
          ]
        }
      ],
      "source": [
        "import numpy as np\n",
        "empty_array = np.zeros((2,2))\n",
        "#Print the 2 dimensional empty array\n",
        "print(empty_array)"
      ]
    },
    {
      "cell_type": "markdown",
      "source": [
        "Q2 Initialize an all one array with size 4X2.**bold text**"
      ],
      "metadata": {
        "id": "j9kMI-MLXhpc"
      }
    },
    {
      "cell_type": "code",
      "source": [
        "import numpy as np\n",
        "array = np.ones((4, 2))\n",
        "#Print the array with 4 * 2 size\n",
        "print(array)"
      ],
      "metadata": {
        "colab": {
          "base_uri": "https://localhost:8080/"
        },
        "id": "0w3LaEStXwtK",
        "outputId": "38bfef1c-08dc-4bf9-9caa-c24783ef0b4f"
      },
      "execution_count": null,
      "outputs": [
        {
          "output_type": "stream",
          "name": "stdout",
          "text": [
            "[[1. 1.]\n",
            " [1. 1.]\n",
            " [1. 1.]\n",
            " [1. 1.]]\n"
          ]
        }
      ]
    },
    {
      "cell_type": "markdown",
      "source": [
        "Q3 Return a new array of given shape and type, filled with fill value."
      ],
      "metadata": {
        "id": "Scb68AqqYNgo"
      }
    },
    {
      "cell_type": "code",
      "source": [
        "import numpy as np\n",
        "\n",
        "shape = (4,4)\n",
        "filled_value = 1\n",
        "filled_array = np.full(shape, filled_value)\n",
        "print(f\"filled array : {filled_array}\")"
      ],
      "metadata": {
        "colab": {
          "base_uri": "https://localhost:8080/"
        },
        "id": "ajbjrrv0YVlg",
        "outputId": "3947630f-d669-437f-8116-12b84bad46a7"
      },
      "execution_count": null,
      "outputs": [
        {
          "output_type": "stream",
          "name": "stdout",
          "text": [
            "filled array : [[1 1 1 1]\n",
            " [1 1 1 1]\n",
            " [1 1 1 1]\n",
            " [1 1 1 1]]\n"
          ]
        }
      ]
    },
    {
      "cell_type": "markdown",
      "source": [
        "Q4 Return a new array of zeros with same shape and type as a given array.{Hint: np.zeros like}"
      ],
      "metadata": {
        "id": "PYrGQNZTawOT"
      }
    },
    {
      "cell_type": "code",
      "source": [
        "import numpy as np\n",
        "given_array = np.array([[1, 1], [1, 1]])\n",
        "zero_array = np.zeros_like( given_array)\n",
        "#Printing the given array.\n",
        "print(zero_array)\n",
        "\n"
      ],
      "metadata": {
        "colab": {
          "base_uri": "https://localhost:8080/"
        },
        "id": "d_YOnuHPayXd",
        "outputId": "4da113b5-78ee-4ab3-cbce-c2241f78df94"
      },
      "execution_count": null,
      "outputs": [
        {
          "output_type": "stream",
          "name": "stdout",
          "text": [
            "[[0 0]\n",
            " [0 0]]\n"
          ]
        }
      ]
    },
    {
      "cell_type": "markdown",
      "source": [
        "Q5. Return a new array of ones with same shape and type as a given array.{Hint: np.ones like}"
      ],
      "metadata": {
        "id": "0jKPhZrgdLpN"
      }
    },
    {
      "cell_type": "code",
      "source": [
        "import numpy as np\n",
        "given_array = np.array([[1,2,3], [2,3,4], [1,5,6]]) #Random given array.\n",
        "new_array = np.ones_like(given_array)\n",
        "print(new_array)"
      ],
      "metadata": {
        "colab": {
          "base_uri": "https://localhost:8080/"
        },
        "id": "Yy_K_lwQdTTg",
        "outputId": "27484795-b98f-44bc-a210-bf4a5f649ca7"
      },
      "execution_count": null,
      "outputs": [
        {
          "output_type": "stream",
          "name": "stdout",
          "text": [
            "[[1 1 1]\n",
            " [1 1 1]\n",
            " [1 1 1]]\n"
          ]
        }
      ]
    },
    {
      "cell_type": "markdown",
      "source": [
        "Q 6 For an existing list new_list = [1,2,3,4] convert to an numpy array.{Hint: np.array()}"
      ],
      "metadata": {
        "id": "QHvpPjwBeAwv"
      }
    },
    {
      "cell_type": "code",
      "source": [
        "import numpy as np\n",
        "\n",
        "new_list = [1, 2, 3, 4]\n",
        "numpy_array = np.array(new_list)\n",
        "\n",
        "print(numpy_array)\n",
        "\n"
      ],
      "metadata": {
        "id": "3BeYL4oFeGup",
        "colab": {
          "base_uri": "https://localhost:8080/"
        },
        "outputId": "6f4d735a-f48b-4941-8f3c-53424e468ebb"
      },
      "execution_count": 1,
      "outputs": [
        {
          "output_type": "stream",
          "name": "stdout",
          "text": [
            "[1 2 3 4]\n"
          ]
        }
      ]
    },
    {
      "cell_type": "markdown",
      "source": [
        "4.1.1"
      ],
      "metadata": {
        "id": "UnQmrd4ZOl6g"
      }
    },
    {
      "cell_type": "markdown",
      "source": [
        "Q1 Create an array with values ranging from 10 to 49. {Hint:np.arrange()}"
      ],
      "metadata": {
        "id": "BEVdxAM-OrqR"
      }
    },
    {
      "cell_type": "code",
      "source": [
        "import numpy as np\n",
        "\n",
        "array = np.arange(10, 50)\n",
        "print(array)\n"
      ],
      "metadata": {
        "colab": {
          "base_uri": "https://localhost:8080/"
        },
        "id": "iBUQ2HewOyNb",
        "outputId": "89bb7fe8-e6a7-4d54-8da0-2f8e607fea8d"
      },
      "execution_count": 2,
      "outputs": [
        {
          "output_type": "stream",
          "name": "stdout",
          "text": [
            "[10 11 12 13 14 15 16 17 18 19 20 21 22 23 24 25 26 27 28 29 30 31 32 33\n",
            " 34 35 36 37 38 39 40 41 42 43 44 45 46 47 48 49]\n"
          ]
        }
      ]
    },
    {
      "cell_type": "markdown",
      "source": [
        "Q2  Create a 3X3 matrix with values ranging from 0 to 8.\n",
        " {Hint:look for np.reshape()"
      ],
      "metadata": {
        "id": "jttygWkLO9nd"
      }
    },
    {
      "cell_type": "code",
      "source": [
        "import numpy as np\n",
        "\n",
        "# Create an array with values ranging from 0 to 8\n",
        "array = np.arange(9)\n",
        "\n",
        "# Reshape the array into a 3x3 matrix\n",
        "matrix = array.reshape(3, 3)\n",
        "\n",
        "print(matrix)\n"
      ],
      "metadata": {
        "colab": {
          "base_uri": "https://localhost:8080/"
        },
        "id": "8TRfTmz3PBT3",
        "outputId": "55066970-9fbf-45ea-fbde-9b31f6af7904"
      },
      "execution_count": 3,
      "outputs": [
        {
          "output_type": "stream",
          "name": "stdout",
          "text": [
            "[[0 1 2]\n",
            " [3 4 5]\n",
            " [6 7 8]]\n"
          ]
        }
      ]
    },
    {
      "cell_type": "markdown",
      "source": [
        "Q3  Create a 3X3 identity matrix.{Hint:np.eye()}"
      ],
      "metadata": {
        "id": "2ngd1XX8PF0g"
      }
    },
    {
      "cell_type": "code",
      "source": [
        "import numpy as np\n",
        "\n",
        "identity_matrix = np.eye(3)\n",
        "print(identity_matrix)\n"
      ],
      "metadata": {
        "colab": {
          "base_uri": "https://localhost:8080/"
        },
        "id": "Wj4_NV6WPKix",
        "outputId": "965979d1-da6c-4cb0-b7eb-6023407660cd"
      },
      "execution_count": 4,
      "outputs": [
        {
          "output_type": "stream",
          "name": "stdout",
          "text": [
            "[[1. 0. 0.]\n",
            " [0. 1. 0.]\n",
            " [0. 0. 1.]]\n"
          ]
        }
      ]
    },
    {
      "cell_type": "markdown",
      "source": [
        "Q4 4. Create a random array of size 30 and find the mean of the array.\n",
        " {Hint:check for np.random.random() and array.mean() function}"
      ],
      "metadata": {
        "id": "A2Fg67IUPMp6"
      }
    },
    {
      "cell_type": "code",
      "source": [
        "import numpy as np\n",
        "\n",
        "# Create a random array of size 30\n",
        "random_array = np.random.random(30)\n",
        "\n",
        "# Find the mean of the array\n",
        "mean_value = random_array.mean()\n",
        "\n",
        "print(\"Random Array:\", random_array)\n",
        "print(\"Mean of the Array:\", mean_value)\n"
      ],
      "metadata": {
        "colab": {
          "base_uri": "https://localhost:8080/"
        },
        "id": "5-bGrvf8PRdy",
        "outputId": "aec95614-afdc-4365-ec57-3a8e8ee60727"
      },
      "execution_count": 5,
      "outputs": [
        {
          "output_type": "stream",
          "name": "stdout",
          "text": [
            "Random Array: [0.47698275 0.64706761 0.54200599 0.16265298 0.66949597 0.54092069\n",
            " 0.14949113 0.52827478 0.30949438 0.30320863 0.27512218 0.53680567\n",
            " 0.12058999 0.58771492 0.26502595 0.29530908 0.50137805 0.89291258\n",
            " 0.23772878 0.29003738 0.2722598  0.76240928 0.692153   0.18439607\n",
            " 0.81797264 0.22578072 0.03466319 0.8300546  0.00947654 0.8329905 ]\n",
            "Mean of the Array: 0.43314586009191\n"
          ]
        }
      ]
    },
    {
      "cell_type": "markdown",
      "source": [
        "Q 5 5. Create a 10X10 array with random values and find the minimum and maximum values."
      ],
      "metadata": {
        "id": "1heaUBm8PYrN"
      }
    },
    {
      "cell_type": "code",
      "source": [
        "import numpy as np\n",
        "\n",
        "# Create a 10x10 array with random values\n",
        "random_array = np.random.random((10, 10))\n",
        "\n",
        "# Find the minimum and maximum values\n",
        "min_value = random_array.min()\n",
        "max_value = random_array.max()\n",
        "\n",
        "print(\"Random Array:\\n\", random_array)\n",
        "print(\"Minimum Value:\", min_value)\n",
        "print(\"Maximum Value:\", max_value)\n"
      ],
      "metadata": {
        "colab": {
          "base_uri": "https://localhost:8080/"
        },
        "id": "MBjHL8TDPiff",
        "outputId": "56eaeeb7-0dd6-4cf0-a336-d9c1e7531426"
      },
      "execution_count": 6,
      "outputs": [
        {
          "output_type": "stream",
          "name": "stdout",
          "text": [
            "Random Array:\n",
            " [[0.72271642 0.33749108 0.54550259 0.10545534 0.27724897 0.53519752\n",
            "  0.07382187 0.03400669 0.21259624 0.53467945]\n",
            " [0.60906514 0.7333838  0.33493748 0.96144692 0.1497742  0.16823789\n",
            "  0.60453776 0.20504317 0.08666217 0.22298187]\n",
            " [0.11947028 0.87122421 0.14063485 0.0645496  0.05723105 0.85566352\n",
            "  0.16228174 0.26742065 0.95742011 0.2203943 ]\n",
            " [0.54840589 0.83300502 0.26800627 0.36929407 0.28922424 0.38893482\n",
            "  0.31311438 0.63853066 0.25300558 0.44843935]\n",
            " [0.60324078 0.29849233 0.55500583 0.50783201 0.29225629 0.48559582\n",
            "  0.06318303 0.93514671 0.49500786 0.21713903]\n",
            " [0.63743915 0.42283881 0.44354123 0.24120891 0.30690529 0.25283587\n",
            "  0.40735309 0.27710804 0.22887377 0.96284258]\n",
            " [0.83495113 0.14972398 0.27767255 0.89548673 0.30962162 0.25971471\n",
            "  0.106999   0.92599621 0.83145262 0.85137049]\n",
            " [0.77319067 0.17113647 0.3001573  0.41244499 0.68889888 0.66654626\n",
            "  0.25263347 0.00499601 0.07696875 0.50679481]\n",
            " [0.59074796 0.93104054 0.26031318 0.29357746 0.37029861 0.5344021\n",
            "  0.74366348 0.30201216 0.45018345 0.02933509]\n",
            " [0.11904531 0.37391607 0.25818326 0.3854216  0.72314791 0.71209664\n",
            "  0.49876171 0.20612448 0.94659358 0.77028464]]\n",
            "Minimum Value: 0.0049960135067066425\n",
            "Maximum Value: 0.9628425838312087\n"
          ]
        }
      ]
    },
    {
      "cell_type": "markdown",
      "source": [
        " 6. Create a zero array of size 10 and replace 5th element with 1."
      ],
      "metadata": {
        "id": "HPyDfAxPPkYg"
      }
    },
    {
      "cell_type": "code",
      "source": [
        "import numpy as np\n",
        "\n",
        "# Create a zero array of size 10\n",
        "zero_array = np.zeros(10)\n",
        "\n",
        "# Replace the 5th element (index 4) with 1\n",
        "zero_array[4] = 1\n",
        "\n",
        "print(zero_array)\n"
      ],
      "metadata": {
        "colab": {
          "base_uri": "https://localhost:8080/"
        },
        "id": "oiZgUQaWPnhB",
        "outputId": "bf16acbd-50e0-41ed-9772-e4d6e233bb26"
      },
      "execution_count": 7,
      "outputs": [
        {
          "output_type": "stream",
          "name": "stdout",
          "text": [
            "[0. 0. 0. 0. 1. 0. 0. 0. 0. 0.]\n"
          ]
        }
      ]
    },
    {
      "cell_type": "markdown",
      "source": [
        " Q 7 Reverse an array arr = [1,2,0,0,4,0]."
      ],
      "metadata": {
        "id": "knhYCec1Puf5"
      }
    },
    {
      "cell_type": "code",
      "source": [
        "import numpy as np\n",
        "\n",
        "arr = np.array([1, 2, 0, 0, 4, 0])\n",
        "reversed_arr = arr[::-1]\n",
        "\n",
        "print(reversed_arr)\n"
      ],
      "metadata": {
        "colab": {
          "base_uri": "https://localhost:8080/"
        },
        "id": "HyTKoYh-Pw0z",
        "outputId": "fc3afcd6-1151-45db-8a04-ac79c767a3ef"
      },
      "execution_count": 8,
      "outputs": [
        {
          "output_type": "stream",
          "name": "stdout",
          "text": [
            "[0 4 0 0 2 1]\n"
          ]
        }
      ]
    },
    {
      "cell_type": "markdown",
      "source": [
        "Q 8 Create a 2d array with 1 on border and 0 inside."
      ],
      "metadata": {
        "id": "FUkIIyk2P4Hl"
      }
    },
    {
      "cell_type": "code",
      "source": [
        "import numpy as np\n",
        "\n",
        "# Create a 2D array of zeros with the desired shape\n",
        "array = np.zeros((5, 5))\n",
        "\n",
        "# Set the border elements to 1\n",
        "array[0, :] = 1\n",
        "array[-1, :] = 1\n",
        "array[:, 0] = 1\n",
        "array[:, -1] = 1\n",
        "\n",
        "print(array)\n"
      ],
      "metadata": {
        "colab": {
          "base_uri": "https://localhost:8080/"
        },
        "id": "yMgjKWDMP9s2",
        "outputId": "34c107f4-ce57-4bd9-82e5-50a86f9caf3e"
      },
      "execution_count": 9,
      "outputs": [
        {
          "output_type": "stream",
          "name": "stdout",
          "text": [
            "[[1. 1. 1. 1. 1.]\n",
            " [1. 0. 0. 0. 1.]\n",
            " [1. 0. 0. 0. 1.]\n",
            " [1. 0. 0. 0. 1.]\n",
            " [1. 1. 1. 1. 1.]]\n"
          ]
        }
      ]
    },
    {
      "cell_type": "markdown",
      "source": [
        "Q 9 Create a 8X8 matrix and fill it with a checkerboard pattern."
      ],
      "metadata": {
        "id": "EmPYCasyQI6R"
      }
    },
    {
      "cell_type": "code",
      "source": [
        "import numpy as np\n",
        "\n",
        "# Create an 8x8 matrix\n",
        "checkerboard = np.zeros((8, 8), dtype=int)\n",
        "\n",
        "# Fill the matrix with a checkerboard pattern\n",
        "checkerboard[1::2, ::2] = 1\n",
        "checkerboard[::2, 1::2] = 1\n",
        "\n",
        "print(checkerboard)\n"
      ],
      "metadata": {
        "colab": {
          "base_uri": "https://localhost:8080/"
        },
        "id": "Kr17Nq0rQLrx",
        "outputId": "82f3a67f-7e8f-4ec1-a87d-1b06dc495f93"
      },
      "execution_count": 10,
      "outputs": [
        {
          "output_type": "stream",
          "name": "stdout",
          "text": [
            "[[0 1 0 1 0 1 0 1]\n",
            " [1 0 1 0 1 0 1 0]\n",
            " [0 1 0 1 0 1 0 1]\n",
            " [1 0 1 0 1 0 1 0]\n",
            " [0 1 0 1 0 1 0 1]\n",
            " [1 0 1 0 1 0 1 0]\n",
            " [0 1 0 1 0 1 0 1]\n",
            " [1 0 1 0 1 0 1 0]]\n"
          ]
        }
      ]
    },
    {
      "cell_type": "markdown",
      "source": [
        "Q 1  For the following arrays:\n",
        " x = np.array([[1,2],[3,5]]) and y = np.array([[5,6],[7,8]]);\n",
        " v = np.array([9,10]) and w = np.array([11,12]);\n",
        " Complete all the task using numpy:\n",
        " 1. Add the two array.\n",
        " 2. Subtract the two array.\n",
        " 3. Multiply the array with any integers of your choice.\n",
        " 4. Find the square of each element of the array.\n",
        " 5. Find the dot product between: v(and)w ; x(and)v ; x(and)y.\n",
        " 6. Concatenate x(and)y along row and Concatenate v(and)w along column.\n",
        " {Hint:try np.concatenate() or np.vstack() functions.\n",
        " 7. Concatenate x(and)v; if you get an error, observe and explain why did you get the error?"
      ],
      "metadata": {
        "id": "58cUSvJ2QPXj"
      }
    },
    {
      "cell_type": "code",
      "source": [
        "import numpy as np\n",
        "\n",
        "x = np.array([[1, 2], [3, 5]])\n",
        "y = np.array([[5, 6], [7, 8]])\n",
        "v = np.array([9, 10])\n",
        "w = np.array([11, 12])\n",
        "\n",
        "# 1. Add the two arrays\n",
        "addition = np.add(x, y)\n",
        "print(\"Addition:\\n\", addition)\n",
        "\n",
        "# 2. Subtract the two arrays\n",
        "subtraction = np.subtract(x, y)\n",
        "print(\"Subtraction:\\n\", subtraction)\n",
        "\n",
        "#Multiply the array with any integer (let's choose 2)\n",
        "multiplication = x * 2\n",
        "print(\"Multiplication:\\n\", multiplication)\n",
        "\n",
        "#Find the square of each element of the array\n",
        "square = np.square(x)\n",
        "print(\"Square:\\n\", square)\n",
        "\n",
        "#Find the dot product between: v and w; x and v; x and y\n",
        "dot_vw = np.dot(v, w)\n",
        "dot_xv = np.dot(x, v)\n",
        "dot_xy = np.dot(x, y)\n",
        "\n",
        "print(\"Dot product v and w:\", dot_vw)\n",
        "print(\"Dot product x and v:\\n\", dot_xv)\n",
        "print(\"Dot product x and y:\\n\", dot_xy)\n",
        "\n",
        "#Concatenate x and y along rows and concatenate v and w along columns\n",
        "concat_xy_row = np.concatenate((x, y), axis=0)\n",
        "concat_vw_col = np.vstack((v, w))\n",
        "\n",
        "print(\"Concatenate x and y along rows:\\n\", concat_xy_row)\n",
        "print(\"Concatenate v and w along columns:\\n\", concat_vw_col)\n",
        "\n",
        "#Concatenate x and v; if you get an error, observe and explain why\n",
        "try:\n",
        "    concat_xv = np.concatenate((x, v), axis=0)\n",
        "    print(\"Concatenate x and v:\\n\", concat_xv)\n",
        "except ValueError as e:\n",
        "    print(\"Error:\", e)\n"
      ],
      "metadata": {
        "colab": {
          "base_uri": "https://localhost:8080/"
        },
        "id": "Lz4e165OQY68",
        "outputId": "8fba9311-ee6b-4f30-ebfb-e4a72c00ef5f"
      },
      "execution_count": 11,
      "outputs": [
        {
          "output_type": "stream",
          "name": "stdout",
          "text": [
            "Addition:\n",
            " [[ 6  8]\n",
            " [10 13]]\n",
            "Subtraction:\n",
            " [[-4 -4]\n",
            " [-4 -3]]\n",
            "Multiplication:\n",
            " [[ 2  4]\n",
            " [ 6 10]]\n",
            "Square:\n",
            " [[ 1  4]\n",
            " [ 9 25]]\n",
            "Dot product v and w: 219\n",
            "Dot product x and v:\n",
            " [29 77]\n",
            "Dot product x and y:\n",
            " [[19 22]\n",
            " [50 58]]\n",
            "Concatenate x and y along rows:\n",
            " [[1 2]\n",
            " [3 5]\n",
            " [5 6]\n",
            " [7 8]]\n",
            "Concatenate v and w along columns:\n",
            " [[ 9 10]\n",
            " [11 12]]\n",
            "Error: all the input arrays must have same number of dimensions, but the array at index 0 has 2 dimension(s) and the array at index 1 has 1 dimension(s)\n"
          ]
        }
      ]
    },
    {
      "cell_type": "code",
      "source": [
        "# problem 4\n",
        "import numpy as np\n",
        "\n",
        "A = np.array([[3, 4], [7, 8]])\n",
        "\n",
        "# Compute the inverse of A\n",
        "A_inv = np.linalg.inv(A)\n",
        "\n",
        "# Multiply A by its inverse\n",
        "I = np.dot(A, A_inv)\n",
        "\n",
        "print(\"A:\\n\", A)\n",
        "print(\"A_inv:\\n\", A_inv)\n",
        "print(\"A * A_inv:\\n\", I)\n",
        "\n"
      ],
      "metadata": {
        "colab": {
          "base_uri": "https://localhost:8080/"
        },
        "id": "I6wE7zOPQzKU",
        "outputId": "b1aeeb49-f901-4268-a6e8-0f6999a03ca7"
      },
      "execution_count": 12,
      "outputs": [
        {
          "output_type": "stream",
          "name": "stdout",
          "text": [
            "A:\n",
            " [[3 4]\n",
            " [7 8]]\n",
            "A_inv:\n",
            " [[-2.    1.  ]\n",
            " [ 1.75 -0.75]]\n",
            "A * A_inv:\n",
            " [[1.00000000e+00 0.00000000e+00]\n",
            " [1.77635684e-15 1.00000000e+00]]\n"
          ]
        }
      ]
    },
    {
      "cell_type": "code",
      "source": [
        "B = np.array([[5, 3], [2, 1]])\n",
        "\n",
        "# Compute AB and BA\n",
        "AB = np.dot(A, B)\n",
        "BA = np.dot(B, A)\n",
        "\n",
        "print(\"AB:\\n\", AB)\n",
        "print(\"BA:\\n\", BA)\n"
      ],
      "metadata": {
        "colab": {
          "base_uri": "https://localhost:8080/"
        },
        "id": "HDciD4u2RDCx",
        "outputId": "358a9313-40b4-40b5-e1b2-7b9a98a3cec7"
      },
      "execution_count": 13,
      "outputs": [
        {
          "output_type": "stream",
          "name": "stdout",
          "text": [
            "AB:\n",
            " [[23 13]\n",
            " [51 29]]\n",
            "BA:\n",
            " [[36 44]\n",
            " [13 16]]\n"
          ]
        }
      ]
    },
    {
      "cell_type": "code",
      "source": [
        "# Compute the transpose of AB\n",
        "AB_T = np.transpose(AB)\n",
        "\n",
        "# Compute the product of the transposes of B and A\n",
        "BT_AT = np.dot(np.transpose(B), np.transpose(A))\n",
        "\n",
        "print(\"(AB)^T:\\n\", AB_T)\n",
        "print(\"B^T A^T:\\n\", BT_AT)\n"
      ],
      "metadata": {
        "colab": {
          "base_uri": "https://localhost:8080/"
        },
        "id": "jXmsh-2qRFmB",
        "outputId": "b4e9c032-5d62-47c9-b545-44a5ca543f15"
      },
      "execution_count": 14,
      "outputs": [
        {
          "output_type": "stream",
          "name": "stdout",
          "text": [
            "(AB)^T:\n",
            " [[23 51]\n",
            " [13 29]]\n",
            "B^T A^T:\n",
            " [[23 51]\n",
            " [13 29]]\n"
          ]
        }
      ]
    },
    {
      "cell_type": "code",
      "source": [
        "# Define the matrices A and B\n",
        "A = np.array([[2, -3, 1], [1, -1, 2], [3, 1, -1]])\n",
        "B = np.array([-1, -3, 9])\n",
        "\n",
        "# Compute the inverse of A\n",
        "A_inv = np.linalg.inv(A)\n",
        "\n",
        "# Solve for X\n",
        "X = np.dot(A_inv, B)\n",
        "\n",
        "print(\"Solution X:\\n\", X)\n"
      ],
      "metadata": {
        "colab": {
          "base_uri": "https://localhost:8080/"
        },
        "id": "BktAKXzmRKOj",
        "outputId": "caa70d23-8eba-4602-ee17-af078c16acde"
      },
      "execution_count": 15,
      "outputs": [
        {
          "output_type": "stream",
          "name": "stdout",
          "text": [
            "Solution X:\n",
            " [ 2.  1. -2.]\n"
          ]
        }
      ]
    },
    {
      "cell_type": "code",
      "source": [
        "#4.2\n",
        "#Q1\n",
        "import time\n",
        "\n",
        "# Create two lists of size 1,000,000\n",
        "list1 = [i for i in range(1000000)]\n",
        "list2 = [i for i in range(1000000)]\n",
        "\n",
        "# Measure the time taken for element-wise addition\n",
        "start_time = time.time()\n",
        "result_list = [list1[i] + list2[i] for i in range(1000000)]\n",
        "end_time = time.time()\n",
        "\n",
        "print(\"Time taken for element-wise addition using Python lists:\", end_time - start_time)\n"
      ],
      "metadata": {
        "colab": {
          "base_uri": "https://localhost:8080/"
        },
        "id": "BUtWvuduRU_0",
        "outputId": "5bb7b04d-b285-4ffd-d38a-924f6ae7b860"
      },
      "execution_count": 16,
      "outputs": [
        {
          "output_type": "stream",
          "name": "stdout",
          "text": [
            "Time taken for element-wise addition using Python lists: 0.1566159725189209\n"
          ]
        }
      ]
    },
    {
      "cell_type": "code",
      "source": [
        "#Q2\n",
        "import numpy as np\n",
        "\n",
        "# Create two NumPy arrays of size 1,000,000\n",
        "array1 = np.arange(1000000)\n",
        "array2 = np.arange(1000000)\n",
        "\n",
        "# Measure the time taken for element-wise addition\n",
        "start_time = time.time()\n",
        "result_array = array1 + array2\n",
        "end_time = time.time()\n",
        "\n",
        "print(\"Time taken for element-wise addition using NumPy arrays:\", end_time - start_time)\n"
      ],
      "metadata": {
        "colab": {
          "base_uri": "https://localhost:8080/"
        },
        "id": "72bCKCJRRmfK",
        "outputId": "9ef15af5-5e8a-4fbc-9a7e-dd180fef88e0"
      },
      "execution_count": 17,
      "outputs": [
        {
          "output_type": "stream",
          "name": "stdout",
          "text": [
            "Time taken for element-wise addition using NumPy arrays: 0.004288434982299805\n"
          ]
        }
      ]
    },
    {
      "cell_type": "code",
      "source": [
        "#Q3\n",
        "# Measure the time taken for element-wise multiplication\n",
        "start_time = time.time()\n",
        "result_list = [list1[i] * list2[i] for i in range(1000000)]\n",
        "end_time = time.time()\n",
        "\n",
        "print(\"Time taken for element-wise multiplication using Python lists:\", end_time - start_time)\n",
        "\n"
      ],
      "metadata": {
        "colab": {
          "base_uri": "https://localhost:8080/"
        },
        "id": "XPQBx1UlRp_j",
        "outputId": "4cc5f555-638a-445d-cc7b-e50c087f2418"
      },
      "execution_count": 18,
      "outputs": [
        {
          "output_type": "stream",
          "name": "stdout",
          "text": [
            "Time taken for element-wise multiplication using Python lists: 0.1641523838043213\n"
          ]
        }
      ]
    },
    {
      "cell_type": "code",
      "source": [
        "#Q4\n",
        "# Measure the time taken for element-wise multiplication\n",
        "start_time = time.time()\n",
        "result_array = array1 * array2\n",
        "end_time = time.time()\n",
        "\n",
        "print(\"Time taken for element-wise multiplication using NumPy arrays:\", end_time - start_time)\n"
      ],
      "metadata": {
        "colab": {
          "base_uri": "https://localhost:8080/"
        },
        "id": "KBdfGF5uRwxk",
        "outputId": "35869e1f-8654-45cf-f809-3a6da29f91b6"
      },
      "execution_count": 19,
      "outputs": [
        {
          "output_type": "stream",
          "name": "stdout",
          "text": [
            "Time taken for element-wise multiplication using NumPy arrays: 0.00893402099609375\n"
          ]
        }
      ]
    },
    {
      "cell_type": "code",
      "source": [
        "#5\n",
        "# Measure the time taken for dot product\n",
        "start_time = time.time()\n",
        "dot_product_list = sum(list1[i] * list2[i] for i in range(1000000))\n",
        "end_time = time.time()\n",
        "\n",
        "print(\"Time taken for dot product using Python lists:\", end_time - start_time)\n"
      ],
      "metadata": {
        "colab": {
          "base_uri": "https://localhost:8080/"
        },
        "id": "Kb-0ApwDR23H",
        "outputId": "76211fb1-ba3a-458e-bace-5928d9a217a4"
      },
      "execution_count": 20,
      "outputs": [
        {
          "output_type": "stream",
          "name": "stdout",
          "text": [
            "Time taken for dot product using Python lists: 0.15079498291015625\n"
          ]
        }
      ]
    },
    {
      "cell_type": "code",
      "source": [
        "#Q6\n",
        "# Measure the time taken for dot product\n",
        "start_time = time.time()\n",
        "dot_product_array = np.dot(array1, array2)\n",
        "end_time = time.time()\n",
        "\n",
        "print(\"Time taken for dot product using NumPy arrays:\", end_time - start_time)\n"
      ],
      "metadata": {
        "colab": {
          "base_uri": "https://localhost:8080/"
        },
        "id": "G_u9tQkkR70j",
        "outputId": "b813d3aa-6add-4f17-8baa-8abba4b4eff4"
      },
      "execution_count": 21,
      "outputs": [
        {
          "output_type": "stream",
          "name": "stdout",
          "text": [
            "Time taken for dot product using NumPy arrays: 0.0032198429107666016\n"
          ]
        }
      ]
    },
    {
      "cell_type": "code",
      "source": [
        "#Q7\n",
        "# Create two matrices of size 1000x1000\n",
        "matrix1 = [[i for i in range(1000)] for j in range(1000)]\n",
        "matrix2 = [[i for i in range(1000)] for j in range(1000)]\n",
        "\n",
        "# Measure the time taken for matrix multiplication\n",
        "start_time = time.time()\n",
        "result_matrix = [[sum(a * b for a, b in zip(matrix1_row, matrix2_col)) for matrix2_col in zip(*matrix2)] for matrix1_row in matrix1]\n",
        "end_time = time.time()\n",
        "\n",
        "print(\"Time taken for matrix multiplication using Python lists:\", end_time - start_time)\n"
      ],
      "metadata": {
        "colab": {
          "base_uri": "https://localhost:8080/"
        },
        "id": "C3XLmTg9SUMd",
        "outputId": "6e489a90-7349-41fe-95b8-abf8628f08fe"
      },
      "execution_count": 22,
      "outputs": [
        {
          "output_type": "stream",
          "name": "stdout",
          "text": [
            "Time taken for matrix multiplication using Python lists: 198.3295238018036\n"
          ]
        }
      ]
    },
    {
      "cell_type": "code",
      "source": [
        "#q8\n",
        "# Create two NumPy arrays of size 1000x1000\n",
        "matrix1 = np.arange(1000000).reshape(1000, 1000)\n",
        "matrix2 = np.arange(1000000).reshape(1000, 1000)\n",
        "\n",
        "# Measure the time taken for matrix multiplication\n",
        "start_time = time.time()\n",
        "result_matrix = np.dot(matrix1, matrix2)\n",
        "end_time = time.time()\n",
        "\n",
        "print(\"Time taken for matrix multiplication using NumPy arrays:\", end_time - start_time)\n"
      ],
      "metadata": {
        "colab": {
          "base_uri": "https://localhost:8080/"
        },
        "id": "Ntje5l5USZKp",
        "outputId": "1cf33533-7228-4f8c-8897-33a0a0eb6828"
      },
      "execution_count": 23,
      "outputs": [
        {
          "output_type": "stream",
          "name": "stdout",
          "text": [
            "Time taken for matrix multiplication using NumPy arrays: 1.3156206607818604\n"
          ]
        }
      ]
    }
  ]
}