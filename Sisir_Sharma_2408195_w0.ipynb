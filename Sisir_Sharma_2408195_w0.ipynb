{
 "cells": [
  {
   "cell_type": "code",
   "execution_count": 1,
   "id": "d81e6666-5e05-4eaa-81de-45dd1f010864",
   "metadata": {},
   "outputs": [
    {
     "name": "stdout",
     "output_type": "stream",
     "text": [
      "Hello, World!\n",
      "Python version: 3.13.0 (tags/v3.13.0:60403a5, Oct  7 2024, 09:38:07) [MSC v.1941 64 bit (AMD64)]\n"
     ]
    }
   ],
   "source": [
    "\n",
    "import sys\n",
    "\n",
    "# Check Python version\n",
    "if sys.version_info.major == 3 and sys.version_info.minor >= 6:\n",
    "    print(\"Hello, World!\")\n",
    "    print(f\"Python version: {sys.version}\")\n",
    "else:\n",
    "    print(\"Please use Python 3.6 or higher.\")\n",
    "\n",
    "        "
   ]
  },
  {
   "cell_type": "code",
   "execution_count": 7,
   "id": "b79572d7-3294-41bc-a824-8fdb4085d74c",
   "metadata": {},
   "outputs": [
    {
     "name": "stdout",
     "output_type": "stream",
     "text": [
      "data type of variable age =  <class 'int'>\n",
      "data type of variable pi =  <class 'float'>\n",
      "data type of variable temperature =  <class 'float'>\n"
     ]
    }
   ],
   "source": [
    "\n",
    "age = 23 #int\n",
    "pi = 3.14 #float\n",
    "temperature = -5.5 #float\n",
    "print(\"data type of variable age = \", type(age))\n",
    "print(\"data type of variable pi = \", type(pi))\n",
    "print(\"data type of variable temperature = \", type(temperature))"
   ]
  },
  {
   "cell_type": "code",
   "execution_count": 9,
   "id": "9edd8a6f-d13f-49a8-a7f7-462f96a88a21",
   "metadata": {},
   "outputs": [
    {
     "name": "stdout",
     "output_type": "stream",
     "text": [
      "data type of the variable name =  <class 'str'>\n",
      "data type of the variable greeting =  <class 'str'>\n",
      "data type of the variable address =  <class 'str'>\n",
      "The first letter of the name is: A\n",
      "The last letter of the name is: e\n",
      "The second letter to the fourth of the name is: lic\n",
      "The first two letters of the name are: Al\n",
      "Substring starting from the third letter is: ice\n"
     ]
    }
   ],
   "source": [
    "name = \"Alice\"\n",
    "greeting = \"Hello\"\n",
    "address = \"123 Main St\"\n",
    "print(\"data type of the variable name = \",type(name))\n",
    "print(\"data type of the variable greeting = \",type(greeting))\n",
    "print(\"data type of the variable address = \",type(address))\n",
    "# slice only one element\n",
    "print(\"The first letter of the name is:\", name[0])\n",
    "print(\"The last letter of the name is:\", name[-1])\n",
    "# slice a range of elements\n",
    "print(\"The second letter to the fourth of the name is:\", name[1:4])\n",
    "print(\"The first two letters of the name are:\", name[:2])\n",
    "print(\"Substring starting from the third letter is:\", name[2:])"
   ]
  },
  {
   "cell_type": "code",
   "execution_count": 10,
   "id": "94c06c37-d04f-485e-b435-056124a01127",
   "metadata": {},
   "outputs": [
    {
     "data": {
      "text/plain": [
       "[False, 'Hello', True]"
      ]
     },
     "execution_count": 10,
     "metadata": {},
     "output_type": "execute_result"
    }
   ],
   "source": [
    "list1 = [1, 2, 3, 4]\n",
    "mixed_list = [12, \"Hello\", True]\n",
    "# List is mutable\n",
    "mixed_list[0] = False\n",
    "mixed_list\n"
   ]
  },
  {
   "cell_type": "code",
   "execution_count": null,
   "id": "1e54f11d-88e6-45c7-81c1-ba95f750afe5",
   "metadata": {},
   "outputs": [
    {
     "name": "stdout",
     "output_type": "stream",
     "text": [
      "First element: red\n",
      "Last two elements: ('yellow', 'blue')\n",
      "Middle two elements: ('green', 'yellow')\n"
     ]
    },
    {
     "ename": "TypeError",
     "evalue": "'tuple' object does not support item assignment",
     "output_type": "error",
     "traceback": [
      "\u001b[1;31m---------------------------------------------------------------------------\u001b[0m",
      "\u001b[1;31mTypeError\u001b[0m                                 Traceback (most recent call last)",
      "Cell \u001b[1;32mIn[12], line 5\u001b[0m\n\u001b[0;32m      3\u001b[0m \u001b[38;5;28mprint\u001b[39m(\u001b[38;5;124m\"\u001b[39m\u001b[38;5;124mLast two elements:\u001b[39m\u001b[38;5;124m\"\u001b[39m, colors[\u001b[38;5;241m2\u001b[39m:])\n\u001b[0;32m      4\u001b[0m \u001b[38;5;28mprint\u001b[39m(\u001b[38;5;124m\"\u001b[39m\u001b[38;5;124mMiddle two elements:\u001b[39m\u001b[38;5;124m\"\u001b[39m, colors[\u001b[38;5;241m1\u001b[39m:\u001b[38;5;241m3\u001b[39m])\n\u001b[1;32m----> 5\u001b[0m \u001b[43mcolors\u001b[49m\u001b[43m[\u001b[49m\u001b[38;5;241;43m0\u001b[39;49m\u001b[43m]\u001b[49m \u001b[38;5;241m=\u001b[39m \u001b[38;5;124m\"\u001b[39m\u001b[38;5;124mpurple\u001b[39m\u001b[38;5;124m\"\u001b[39m\n\u001b[0;32m      6\u001b[0m colors \u001b[38;5;66;03m# will generate an error as tuple is immutable.\u001b[39;00m\n",
      "\u001b[1;31mTypeError\u001b[0m: 'tuple' object does not support item assignment"
     ]
    }
   ],
   "source": [
    "colors = (\"red\", \"green\", \"yellow\", \"blue\")\n",
    "print(\"First element:\", colors[0])\n",
    "print(\"Last two elements:\", colors[2:])\n",
    "print(\"Middle two elements:\", colors[1:3])\n",
    "colors[0] = \"purple\"\n",
    "print(colors) # will generate an error as tuple is immutable."
   ]
  },
  {
   "cell_type": "code",
   "execution_count": 9,
   "id": "d7c4fb0c-1f5a-4ea2-84f7-402b6b95aad5",
   "metadata": {},
   "outputs": [
    {
     "name": "stdout",
     "output_type": "stream",
     "text": [
      "Cold temperatures: [8.2, 7.9, 9.0, 8.5, 7.7, 8.4, 9.5, 8.1, 7.6, 8.0, 7.8, 8.7, 9.2, 8.3, 8.9, 7.8]\n",
      "Mid-range temperatures: [14.1, 13.5, 13.0, 12.9, 13.3, 14.0, 13.4, 14.2, 12.8, 13.7, 13.6, 13.8, 13.9, 12.7, 13.1, 12.5]\n",
      "Comfortable temperatures: [17.4, 18.0, 17.8, 16.5, 17.2, 16.7, 18.3, 17.9, 17.0, 16.8, 17.5, 17.1, 18.1, 16.4, 18.2, 16.6]\n",
      "Cold temperature 1: 8.2\n",
      "Cold temperature 2: 7.9\n",
      "Cold temperature 3: 9.0\n",
      "Cold temperature 4: 8.5\n",
      "Cold temperature 5: 7.7\n",
      "Cold temperature 6: 8.4\n",
      "Cold temperature 7: 9.5\n",
      "Cold temperature 8: 8.1\n",
      "Cold temperature 9: 7.6\n",
      "Cold temperature 10: 8.0\n",
      "Cold temperature 11: 7.8\n",
      "Cold temperature 12: 8.7\n",
      "Cold temperature 13: 9.2\n",
      "Cold temperature 14: 8.3\n",
      "Cold temperature 15: 8.9\n",
      "Cold temperature 16: 7.8\n",
      "Mid temperature 1: 14.1\n",
      "Mid temperature 2: 13.5\n",
      "Mid temperature 3: 13.0\n",
      "Mid temperature 4: 12.9\n",
      "Mid temperature 5: 13.3\n",
      "Mid temperature 6: 14.0\n",
      "Mid temperature 7: 13.4\n",
      "Mid temperature 8: 14.2\n",
      "Mid temperature 9: 12.8\n",
      "Mid temperature 10: 13.7\n",
      "Mid temperature 11: 13.6\n",
      "Mid temperature 12: 13.8\n",
      "Mid temperature 13: 13.9\n",
      "Mid temperature 14: 12.7\n",
      "Mid temperature 15: 13.1\n",
      "Mid temperature 16: 12.5\n",
      "Comfortable temperature 1: 17.4\n",
      "Comfortable temperature 2: 18.0\n",
      "Comfortable temperature 3: 17.8\n",
      "Comfortable temperature 4: 16.5\n",
      "Comfortable temperature 5: 17.2\n",
      "Comfortable temperature 6: 16.7\n",
      "Comfortable temperature 7: 18.3\n",
      "Comfortable temperature 8: 17.9\n",
      "Comfortable temperature 9: 17.0\n",
      "Comfortable temperature 10: 16.8\n",
      "Comfortable temperature 11: 17.5\n",
      "Comfortable temperature 12: 17.1\n",
      "Comfortable temperature 13: 18.1\n",
      "Comfortable temperature 14: 16.4\n",
      "Comfortable temperature 15: 18.2\n",
      "Comfortable temperature 16: 16.6\n",
      "Temperatures in Fahrenheit: [46.76, 63.32, 57.379999999999995, 46.22, 64.4, 56.3, 48.2, 64.04, 55.4, 47.3, 61.7, 55.22, 45.86, 62.959999999999994, 55.94, 47.120000000000005, 62.059999999999995, 57.2, 49.1, 64.94, 56.120000000000005, 46.58, 64.22, 57.56, 45.68, 62.6, 55.04, 46.4, 62.24, 56.66, 46.04, 63.5, 56.48, 47.66, 62.78, 56.84, 48.56, 64.58, 57.02, 46.94, 61.519999999999996, 54.86, 48.02, 64.75999999999999, 55.58, 46.04, 61.88, 54.5]\n",
      "Average temprature of day is 13.406°C\n"
     ]
    }
   ],
   "source": [
    "#Task 1::::\n",
    "temperatures = [8.2, 17.4, 14.1, 7.9, 18.0, 13.5, 9.0, 17.8, 13.0, 8.5,\n",
    "                16.5, 12.9, 7.7, 17.2, 13.3, 8.4, 16.7, 14.0, 9.5, 18.3, \n",
    "                13.4, 8.1, 17.9, 14.2, 7.6, 17.0, 12.8, 8.0, 16.8, 13.7, \n",
    "                7.8, 17.5, 13.6, 8.7, 17.1, 13.8, 9.2, 18.1, 13.9, 8.3, \n",
    "                16.4, 12.7, 8.9, 18.2, 13.1, 7.8, 16.6, 12.5]\n",
    "\n",
    "cold_temperatures = []\n",
    "mid_temperatures = []\n",
    "comfortable = []\n",
    "\n",
    "for temperature in temperatures:\n",
    "    if temperature < 10:\n",
    "        cold_temperatures.append(temperature)\n",
    "    elif 10 <= temperature < 15:\n",
    "        mid_temperatures.append(temperature)\n",
    "    else:\n",
    "        comfortable.append(temperature)\n",
    "\n",
    "print(\"Cold temperatures:\", cold_temperatures)\n",
    "print(\"Mid-range temperatures:\", mid_temperatures)\n",
    "print(\"Comfortable temperatures:\", comfortable)\n",
    "\n",
    "#Task 2:::\n",
    "\n",
    "for i, temp in enumerate(cold_temperatures, start=1):\n",
    "    print(f\"Cold temperature {i}: {temp}\")\n",
    "for i, temp in enumerate(mid_temperatures, start=1):\n",
    "    print(f\"Mid temperature {i}: {temp}\")\n",
    "for i, temp in enumerate(comfortable, start=1):\n",
    "    print(f\"Comfortable temperature {i}: {temp}\")\n",
    "\n",
    "#Task3:::\n",
    "\n",
    "temperatures_fahrenheit = []\n",
    "\n",
    "for celsius in temperatures:\n",
    "    fahrenheit = (celsius * 9/5) + 32\n",
    "    temperatures_fahrenheit.append(fahrenheit)\n",
    "\n",
    "print(\"Temperatures in Fahrenheit:\", temperatures_fahrenheit)\n",
    "\n",
    "#Task 4:::\n",
    "\n",
    "temp_night = []\n",
    "temp_day = []\n",
    "temp_evening = []\n",
    "for i in range (0, len(temperatures), 3):\n",
    "    temp_night.append(temperatures[i])\n",
    "    temp_evening.append(temperatures[i+1])\n",
    "    temp_day.append(temperatures[i+2])\n",
    "#Calculate to print average temp in day\n",
    "average_day_temperature = sum(temp_day)/len(temp_day)\n",
    "print(f\"Average temprature of day is {average_day_temperature:.3f}°C\")\n",
    "    \n",
    "    \n",
    "    \n"
   ]
  },
  {
   "cell_type": "code",
   "execution_count": 1,
   "id": "a1435bea-f2a0-4186-a2e7-a7e9e0c96a4c",
   "metadata": {},
   "outputs": [
    {
     "name": "stdout",
     "output_type": "stream",
     "text": [
      "Hello my name is Wax. I am 19 years old and I live at USA.\n",
      "All keys: ['name', 'age', 'city']\n",
      "All values: ['Wax', 19, 'USA']\n"
     ]
    }
   ],
   "source": [
    "person = {'name':'Wax','age':19,'city':'USA'}\n",
    "print(f\"Hello my name is {person['name']}. I am {person['age']} years old and I live at {person['city']}.\")\n",
    "print(\"All keys:\", list(person.keys()))\n",
    "print(\"All values:\", list(person.values()))\n",
    "\n",
    "\n"
   ]
  },
  {
   "cell_type": "code",
   "execution_count": 2,
   "id": "fdfb4103-f82b-4987-b26f-2c97c3041515",
   "metadata": {},
   "outputs": [
    {
     "name": "stdout",
     "output_type": "stream",
     "text": [
      "{1, 2, 3, 4, 5}\n"
     ]
    }
   ],
   "source": [
    "#set\n",
    "unique_numbers = {1,2,3,3,3,3,4,5}\n",
    "print(unique_numbers)"
   ]
  },
  {
   "cell_type": "code",
   "execution_count": 3,
   "id": "be2fb91d-e4a7-4591-b06f-dbb1e126b773",
   "metadata": {},
   "outputs": [
    {
     "name": "stdout",
     "output_type": "stream",
     "text": [
      "data type of the variable is_student =  <class 'bool'>\n",
      "data type of the variable has_license =  <class 'bool'>\n"
     ]
    }
   ],
   "source": [
    "is_student = True\n",
    "has_license = False\n",
    "print(\"data type of the variable is_student = \",type(is_student))\n",
    "print(\"data type of the variable has_license = \",type(has_license))"
   ]
  },
  {
   "cell_type": "code",
   "execution_count": 4,
   "id": "06ee5cb5-e5f7-4584-b6a6-c2221ffaa5ba",
   "metadata": {},
   "outputs": [
    {
     "name": "stdout",
     "output_type": "stream",
     "text": [
      "Positive\n"
     ]
    }
   ],
   "source": [
    "num = 10\n",
    "if num > 0:\n",
    "    print(\"Positive\")\n",
    "elif num == 0:\n",
    "    print(\"Zero\")\n",
    "else:\n",
    "    print(\"Non-positive\")"
   ]
  },
  {
   "cell_type": "code",
   "execution_count": 5,
   "id": "ca655476-cc65-496f-a885-175bf595a828",
   "metadata": {},
   "outputs": [
    {
     "name": "stdout",
     "output_type": "stream",
     "text": [
      "Both conditions are true\n",
      "At least one condition is true\n",
      "x is not equal to 0\n"
     ]
    }
   ],
   "source": [
    "#Comparison Operator\n",
    "x = 5\n",
    "y = 10\n",
    "if x > 0 and y < 20:\n",
    "    print(\"Both conditions are true\")\n",
    "if x > 0 or y > 20:\n",
    "    print(\"At least one condition is true\")\n",
    "if not x == 0:\n",
    "    print(\"x is not equal to 0\")"
   ]
  },
  {
   "cell_type": "code",
   "execution_count": 6,
   "id": "99f9ef5d-ed31-4a05-bf34-cb2241de27a1",
   "metadata": {},
   "outputs": [
    {
     "name": "stdout",
     "output_type": "stream",
     "text": [
      "Either a or b is False\n",
      "At least one of a or b is True\n",
      "a is True\n"
     ]
    }
   ],
   "source": [
    "a = True\n",
    "b = False\n",
    "# Using the ’and’ operator\n",
    "if a and b:\n",
    "    print(\"Both a and b are True\")\n",
    "else:\n",
    "    print(\"Either a or b is False\")\n",
    "# Using the ’or’ operator\n",
    "if a or b:\n",
    "    print(\"At least one of a or b is True\")\n",
    "else:\n",
    "    print(\"Both a and b are False\")\n",
    "# Using the ’not’ operator\n",
    "if not a:\n",
    "    print(\"a is False\")\n",
    "else:\n",
    "    print(\"a is True\")"
   ]
  },
  {
   "cell_type": "code",
   "execution_count": 7,
   "id": "0e3dd0fb-d6a9-4e0f-ac57-bd92acdb4852",
   "metadata": {},
   "outputs": [
    {
     "name": "stdout",
     "output_type": "stream",
     "text": [
      "apple\n",
      "banana\n",
      "cherry\n",
      "Count is: 0\n",
      "Count is: 1\n",
      "Count is: 2\n",
      "Count is: 3\n",
      "Count is: 4\n",
      "loop 1\n",
      "apple\n",
      "loop 2\n",
      "banana\n",
      "orange\n"
     ]
    }
   ],
   "source": [
    "#Loops\n",
    "\n",
    "fruits = [\"apple\", \"banana\",\"cherry\"]\n",
    "for fruit in fruits:\n",
    "    print(fruit)\n",
    "# While loop:\n",
    "count = 0\n",
    "while count < 5:\n",
    "    print(\"Count is:\", count)\n",
    "    count += 1\n",
    "# Break\n",
    "fruits = [\"apple\", \"banana\", \"orange\"]\n",
    "print(\"loop 1\")\n",
    "for fruit in fruits:\n",
    "    print(fruit)\n",
    "    if fruit == \"apple\":\n",
    "        break\n",
    "# Continiue\n",
    "print(\"loop 2\")\n",
    "for fruit in fruits:\n",
    "    if fruit == \"apple\":\n",
    "        continue\n",
    "    else:\n",
    "        print(fruit)"
   ]
  },
  {
   "cell_type": "code",
   "execution_count": 26,
   "id": "66a15526-53c4-4dc6-9042-62fae245275d",
   "metadata": {},
   "outputs": [
    {
     "name": "stdout",
     "output_type": "stream",
     "text": [
      "100\n"
     ]
    }
   ],
   "source": [
    "def add_binary(a, b):\n",
    "    '''\n",
    "    Returns the sum of two decimal numbers in binary digits.\n",
    "    Parameters:\n",
    "    a (int): A decimal integer\n",
    "    b (int): Another decimal integer\n",
    "    Returns:\n",
    "    binary_sum (str): Binary string of the sum of a and b\n",
    "    '''\n",
    "    binary_sum = bin(a + b)[2:]\n",
    "    return binary_sum\n",
    "print(add_binary(2,2))\n"
   ]
  },
  {
   "cell_type": "markdown",
   "id": "b134851f",
   "metadata": {},
   "source": []
  },
  {
   "cell_type": "code",
   "execution_count": 11,
   "id": "969dca7a-c8a0-4bf3-9087-5cfeb242f17a",
   "metadata": {},
   "outputs": [
    {
     "name": "stdout",
     "output_type": "stream",
     "text": [
      "Hello, World!\n",
      "5\n",
      "<class 'int'>\n",
      "6\n"
     ]
    }
   ],
   "source": [
    "#5.2\n",
    "#Built in Function\n",
    "print(\"Hello, World!\")\n",
    "length = len(\"Hello\")\n",
    "print(length)\n",
    "data_type = type(42)\n",
    "print(data_type)\n",
    "total = sum((1, 2, 3))\n",
    "print(total)"
   ]
  },
  {
   "cell_type": "code",
   "execution_count": null,
   "id": "c0575d2d-32c8-4c59-b8d1-4ea9896b28f3",
   "metadata": {},
   "outputs": [
    {
     "name": "stdout",
     "output_type": "stream",
     "text": [
      "HELLO\n",
      "['apple', 'banana', 'cherry']\n",
      "25\n"
     ]
    }
   ],
   "source": [
    "#5.3\n",
    "#Built in Method\n",
    "message = \"hello\".upper()\n",
    "print(message)\n",
    "# list.append(): Adds an element to the end of a list.\n",
    "fruits = [\"apple\", \"banana\"]\n",
    "fruits.append(\"cherry\")\n",
    "print(fruits)\n",
    "# dict.get(): Returns the value associated with a key in a dictionary.\n",
    "info = {\"name\": \"Alice\", \"age\": 25}\n",
    "age = info.get(\"age\") # Output: 25\n",
    "print(age)"
   ]
  },
  {
   "cell_type": "code",
   "execution_count": 13,
   "id": "ea9d0a68-1590-4df1-9feb-466d2b42726c",
   "metadata": {},
   "outputs": [
    {
     "name": "stdout",
     "output_type": "stream",
     "text": [
      "10\n"
     ]
    }
   ],
   "source": [
    "#5.5\n",
    "#Global Variable\n",
    "x = 10 # Global Variable.\n",
    "def print_global():\n",
    "    print(x) # Accessing global variable\n",
    "print_global() # Output: 10"
   ]
  },
  {
   "cell_type": "code",
   "execution_count": 14,
   "id": "19af8ca9-8453-4b10-a6c8-5117c615468f",
   "metadata": {},
   "outputs": [
    {
     "name": "stdout",
     "output_type": "stream",
     "text": [
      "5\n",
      "10\n"
     ]
    }
   ],
   "source": [
    "#Local Variable\n",
    "def print_local():\n",
    "    y = 5 # Local variable\n",
    "    print(y)\n",
    "print_local() # Output: 5\n",
    "print(y) # This would cause an error because y is not accessible outside the function"
   ]
  },
  {
   "cell_type": "code",
   "execution_count": 15,
   "id": "68cc68a8-0cc0-48cd-b5e2-927f993ed3e9",
   "metadata": {},
   "outputs": [
    {
     "name": "stdout",
     "output_type": "stream",
     "text": [
      "20\n"
     ]
    }
   ],
   "source": [
    "#Accessing and Modifying Global Variables Inside a Function\n",
    "x = 10 # Global variable\n",
    "def modify_global():\n",
    "    global x # Declaring x as global\n",
    "    x = 20 # Modifying global x\n",
    "modify_global()\n",
    "print(x) # Output: 20"
   ]
  },
  {
   "cell_type": "code",
   "execution_count": 23,
   "id": "b2533555-d8b1-4dee-be28-621b910791a8",
   "metadata": {},
   "outputs": [
    {
     "name": "stdout",
     "output_type": "stream",
     "text": [
      "720\n"
     ]
    }
   ],
   "source": [
    "#8\n",
    "#Sample\n",
    "def factorial(n):\n",
    "    \"\"\"\n",
    "    Calculate the factorial of a non-negative integer n.\n",
    "    The factorial of a number n (denoted n!) is the product of all positive integers less\n",
    "    than or equal to n.\n",
    "    Specifically:\n",
    "    - If n is 0, the factorial is defined as 1 (base case).\n",
    "    - For any positive integer n, the factorial is calculated recursively as n * (n-1)\n",
    "    * (n-2) * ... * 1.\n",
    "    Args:\n",
    "    n (int): A non-negative integer for which to calculate the factorial.\n",
    "    Returns:\n",
    "    int: The factorial of the input number n.\n",
    "    Raises:\n",
    "    ValueError: If the input n is a negative integer, as factorial is only defined for\n",
    "    non-negative integers.\n",
    "    \"\"\"\n",
    "    if n == 0: # Base case\n",
    "        return 1\n",
    "    else: # Recursive case\n",
    "        return n * factorial(n - 1)\n",
    "print(factorial(6))"
   ]
  },
  {
   "cell_type": "code",
   "execution_count": 20,
   "id": "0cd0dcb1-9cea-4ec9-b074-1a3c52a83c90",
   "metadata": {},
   "outputs": [
    {
     "name": "stdout",
     "output_type": "stream",
     "text": [
      "Total sum of nested list: 36\n"
     ]
    }
   ],
   "source": [
    "#Task 1\n",
    "def sum_nested_list(nested_list):\n",
    "    \"\"\"\n",
    "    Calculating the sum of all numbers in a nested list.\n",
    "    nested_list is a list that may contain integers or other lists of integers.\n",
    "    Returns the total sum of all integers in the nested list, including those in sublists.\n",
    "    \"\"\"\n",
    "    total = 0\n",
    "    for element in nested_list:\n",
    "        if isinstance(element, list):  #checking if the element is a list\n",
    "            total += sum_nested_list(element)  #recursively sum the nested list\n",
    "        else:\n",
    "            total += element #adding the number to the total\n",
    "    return total\n",
    "\n",
    "nested_list = [1, [2, [3, 4], 5], 6, [7, 8]]\n",
    "print(\"Total sum of nested list:\", sum_nested_list(nested_list))"
   ]
  },
  {
   "cell_type": "code",
   "execution_count": 18,
   "id": "db5bc888-c473-4c18-9911-e13dbd46bf16",
   "metadata": {},
   "outputs": [
    {
     "name": "stdout",
     "output_type": "stream",
     "text": [
      "Permutations of 'abc': ['acb', 'bac', 'cab', 'abc', 'cba', 'bca']\n",
      "Permutations of 'aab': ['baa', 'aba', 'aab']\n"
     ]
    }
   ],
   "source": [
    "def generate_permutations(s):\n",
    "    \"\"\"\n",
    "    Generating all unique permutations of a string.\n",
    "    s (str) is the The input string.\n",
    "    Returns list which is list of all unique permutations of the string.\n",
    "    \"\"\"\n",
    "    if len(s) == 1:\n",
    "        return [s]\n",
    "\n",
    "    permutations = []\n",
    "    for i in range(len(s)):\n",
    "        #fixing the first character and generate permutations of the remaining string\n",
    "        fixed = s[i]\n",
    "        rest = s[:i] + s[i+1:]\n",
    "        for perm in generate_permutations(rest):\n",
    "            permutations.append(fixed + perm)\n",
    "\n",
    "    return list(set(permutations))  #using set to ensure uniqueness\n",
    "\n",
    "print(\"Permutations of 'abc':\", generate_permutations(\"abc\"))\n",
    "print(\"Permutations of 'aab':\", generate_permutations(\"aab\"))"
   ]
  },
  {
   "cell_type": "code",
   "execution_count": 19,
   "id": "62a8e41d-dcf8-413e-8a18-a6efd9dbead2",
   "metadata": {},
   "outputs": [
    {
     "name": "stdout",
     "output_type": "stream",
     "text": [
      "Total size of directory: 1400\n"
     ]
    }
   ],
   "source": [
    "def calculate_directory_size(directory):\n",
    "    \"\"\"\n",
    "    Calculating the total size of a directory, including nested files and subdirectories.\n",
    "    directory is a A dictionary where keys represent file names (values as sizes in KB)\n",
    "    or directory names (values as another dictionary representing subdirectories).\n",
    "    Returns the total size of the directory in KB.\n",
    "    \"\"\"\n",
    "    total_size = 0\n",
    "    for key, value in directory.items():\n",
    "        if isinstance(value, dict):  #if the value is a subdirectory\n",
    "            total_size += calculate_directory_size(value)\n",
    "        else:  #if the value is a file size\n",
    "            total_size += value\n",
    "    return total_size\n",
    "\n",
    "directory_structure = {\n",
    "    \"file1.txt\": 200,\n",
    "    \"file2.txt\": 300,\n",
    "    \"subdir1\": {\n",
    "        \"file3.txt\": 400,\n",
    "        \"file4.txt\": 100\n",
    "    },\n",
    "    \"subdir2\": {\n",
    "        \"subsubdir1\": {\n",
    "            \"file5.txt\": 250\n",
    "        },\n",
    "        \"file6.txt\": 150\n",
    "    }\n",
    "}\n",
    "\n",
    "print(\"Total size of directory:\", calculate_directory_size(directory_structure))"
   ]
  },
  {
   "cell_type": "code",
   "execution_count": 24,
   "id": "f4659490-128b-402d-bb70-548a46ca9781",
   "metadata": {},
   "outputs": [
    {
     "name": "stdout",
     "output_type": "stream",
     "text": [
      "5\n",
      "55\n"
     ]
    }
   ],
   "source": [
    "def fibonacci(n, memo={}):\n",
    "    \"\"\"\n",
    "    Computes the nth Fibonacci number using memoization to optimize the recursive\n",
    "    solution.\n",
    "    This function uses memoization to store previously computed Fibonacci numbers,\n",
    "    reducing redundant calculations and improving performance.\n",
    "    Parameters:\n",
    "    n (int): The index in the Fibonacci sequence for which the value is to be computed.\n",
    "    Must be a non-negative integer.\n",
    "    memo (dict, optional): A dictionary used to store previously computed Fibonacci\n",
    "    values.\n",
    "    \n",
    "    It is initialized as an empty dictionary by default and is used\n",
    "    during the recursive calls to avoid recalculating results.\n",
    "    \n",
    "    Returns:\n",
    "    int: The nth Fibonacci number.\n",
    "    Example:\n",
    "    >>> fibonacci(5)\n",
    "    5\n",
    "    >>> fibonacci(10)\n",
    "    55\n",
    "    Time Complexity:\n",
    "    - The time complexity is O(n) because each Fibonacci number is computed only once.\n",
    "    Space Complexity:\n",
    "    - The space complexity is O(n) due to the memoization dictionary storing the results.\n",
    "    \"\"\"\n",
    "    if n in memo:\n",
    "        return memo[n]\n",
    "    if n <= 1:\n",
    "        return n\n",
    "    memo[n] = fibonacci(n - 1, memo) + fibonacci(n - 2, memo)\n",
    "    return memo[n]\n",
    "\n",
    "print(fibonacci(5))\n",
    "print(fibonacci(10))\n"
   ]
  },
  {
   "cell_type": "code",
   "execution_count": 25,
   "id": "69c582b8-677d-442c-bb12-b4bc494d517f",
   "metadata": {},
   "outputs": [
    {
     "name": "stdout",
     "output_type": "stream",
     "text": [
      "55\n"
     ]
    }
   ],
   "source": [
    "def fibonacci(n):\n",
    "    \"\"\"\n",
    "    This function uses a bottom-up dynamic programming approach to calculate the nth\n",
    "    Fibonacci\n",
    "    number by iteratively building up an array of Fibonacci numbers up to n, thus\n",
    "    eliminating\n",
    "    redundant calculations and optimizing performance.\n",
    "    Parameters:    \n",
    "    n (int): The index in the Fibonacci sequence for which the value is to be computed.\n",
    "    Must be a non-negative integer.\n",
    "    Returns:\n",
    "    int: The nth Fibonacci number.\n",
    "    Example:\n",
    "    >>> fibonacci(5)\n",
    "    5\n",
    "    >>> fibonacci(10)\n",
    "    55\n",
    "    Time Complexity:\n",
    "    - The time complexity is O(n), as the function iterates through the range 2 to n,\n",
    "    calculating\n",
    "    each Fibonacci number once.\n",
    "    Space Complexity:\n",
    "    - The space complexity is O(n), due to the array used to store the Fibonacci numbers\n",
    "    up to n.\n",
    "    \"\"\"\n",
    "    if n <= 1:\n",
    "        return n\n",
    "    dp = [0] * (n + 1)\n",
    "    dp[1] = 1\n",
    "    for i in range(2, n + 1):\n",
    "        dp[i] = dp[i - 1] + dp[i - 2]\n",
    "    return dp[n]\n",
    "print(fibonacci(10))"
   ]
  },
  {
   "cell_type": "code",
   "execution_count": 22,
   "id": "c81f013c-03b2-4676-ab87-cbb3522fd27f",
   "metadata": {},
   "outputs": [
    {
     "name": "stdout",
     "output_type": "stream",
     "text": [
      "Minimum coins needed: 3\n"
     ]
    }
   ],
   "source": [
    "def min_coins(coins, amount):\n",
    "    \"\"\"\n",
    "    Finds the minimum number of coins needed to make up a given amount using dynamic\n",
    "    programming.\n",
    "    This function solves the coin change problem by determining the fewest number of\n",
    "    coins from a given set of coin denominations that sum up to a target amount. The\n",
    "    solution uses dynamic programming(tabulation) to iteratively build up the minimum\n",
    "    number of coins required for each amount.\n",
    "    Parameters:\n",
    "    coins (list of int): A list of coin denominations available for making change. Each\n",
    "    coin denomination is a positive integer.\n",
    "    amount (int): The target amount for which we need to find the minimum number of coins\n",
    "    . It must be a non-negative integer.\n",
    "    Returns:\n",
    "    int: The minimum number of coins required to make the given amount.\n",
    "    If it is not possible to make the amount with the given coins, returns -1.\n",
    "    Example:\n",
    "    >>> min_coins([1, 2, 5], 11)\n",
    "    3\n",
    "    >>> min_coins([2], 3)\n",
    "    -1    \n",
    "    \"\"\"\n",
    "    dp = [float('inf')] * (amount + 1)\n",
    "    dp[0] = 0 \n",
    "    \n",
    "    for coin in coins:\n",
    "        for i in range(coin, amount + 1):\n",
    "            dp[i] = min(dp[i], dp[i - coin] + 1)\n",
    "    \n",
    "    return dp[amount] if dp[amount] != float('inf') else -1\n",
    "\n",
    "coins = [1, 2, 5]\n",
    "amount = 11\n",
    "print(f\"Minimum coins needed: {min_coins(coins, amount)}\") "
   ]
  },
  {
   "cell_type": "code",
   "execution_count": 23,
   "id": "250bc57c-6db3-4c59-825d-0ad4ce181900",
   "metadata": {},
   "outputs": [
    {
     "name": "stdout",
     "output_type": "stream",
     "text": [
      "Length of LCS: 3\n"
     ]
    }
   ],
   "source": [
    "def longest_common_subsequence(s1, s2):\n",
    "    \"\"\"\n",
    "    Finding the length of the longest common subsequence between two strings using dynamic programming.\n",
    "    \"\"\"\n",
    "    m, n = len(s1), len(s2)\n",
    "    # Create a DP table initialized to 0\n",
    "    dp = [[0] * (n + 1) for _ in range(m + 1)]\n",
    "    \n",
    "    # Fill DP table\n",
    "    for i in range(1, m + 1):\n",
    "        for j in range(1, n + 1):\n",
    "            if s1[i - 1] == s2[j - 1]:  # Characters match\n",
    "                dp[i][j] = dp[i - 1][j - 1] + 1\n",
    "            else: \n",
    "                dp[i][j] = max(dp[i - 1][j], dp[i][j - 1])\n",
    "    \n",
    "    return dp[m][n]\n",
    "\n",
    "s1 = \"abcde\"\n",
    "s2 = \"ace\"\n",
    "print(f\"Length of LCS: {longest_common_subsequence(s1, s2)}\")"
   ]
  },
  {
   "cell_type": "code",
   "execution_count": 24,
   "id": "b718d060-0377-4ef5-82a6-d4e347b18d3f",
   "metadata": {},
   "outputs": [
    {
     "name": "stdout",
     "output_type": "stream",
     "text": [
      "Maximum value: 9\n"
     ]
    }
   ],
   "source": [
    "def knapsack(weights, values, capacity):\n",
    "    \"\"\"\n",
    "    Solving the 0/1 Knapsack Problem using dynamic programming.\n",
    "    \"\"\"\n",
    "    n = len(weights)\n",
    "    dp = [[0] * (capacity + 1) for _ in range(n + 1)]\n",
    "    \n",
    "    # Fill DP table\n",
    "    for i in range(1, n + 1):\n",
    "        for w in range(capacity + 1):\n",
    "            if weights[i - 1] <= w: \n",
    "                dp[i][w] = max(dp[i - 1][w], dp[i - 1][w - weights[i - 1]] + values[i - 1])\n",
    "            else:\n",
    "                dp[i][w] = dp[i - 1][w]\n",
    "    \n",
    "    return dp[n][capacity]\n",
    "\n",
    "weights = [1, 3, 4, 5]\n",
    "values = [1, 4, 5, 7]\n",
    "capacity = 7\n",
    "print(f\"Maximum value: {knapsack(weights, values, capacity)}\")"
   ]
  },
  {
   "cell_type": "code",
   "execution_count": null,
   "id": "b1dc1f28-0bd6-4b14-9a6b-babdfea6e565",
   "metadata": {},
   "outputs": [
    {
     "name": "stdout",
     "output_type": "stream",
     "text": [
      "<class 'int'>\n"
     ]
    }
   ],
   "source": [
    "age = 2 #try\n",
    "print(type(age))"
   ]
  },
  {
   "cell_type": "code",
   "execution_count": null,
   "id": "7b28888b-cace-4163-be33-8e9af7deeeab",
   "metadata": {},
   "outputs": [
    {
     "name": "stdout",
     "output_type": "stream",
     "text": [
      "G\n"
     ]
    }
   ],
   "source": [
    "name = \"EEEEGT\"  #try\n",
    "print(name[4])"
   ]
  },
  {
   "cell_type": "code",
   "execution_count": null,
   "id": "d9330ff2-1796-4829-a9fa-0a10e02e20e2",
   "metadata": {},
   "outputs": [],
   "source": []
  }
 ],
 "metadata": {
  "kernelspec": {
   "display_name": "Python 3 (ipykernel)",
   "language": "python",
   "name": "python3"
  },
  "language_info": {
   "codemirror_mode": {
    "name": "ipython",
    "version": 3
   },
   "file_extension": ".py",
   "mimetype": "text/x-python",
   "name": "python",
   "nbconvert_exporter": "python",
   "pygments_lexer": "ipython3",
   "version": "3.13.0"
  }
 },
 "nbformat": 4,
 "nbformat_minor": 5
}
