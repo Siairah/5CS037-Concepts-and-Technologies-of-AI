{
  "nbformat": 4,
  "nbformat_minor": 0,
  "metadata": {
    "colab": {
      "provenance": []
    },
    "kernelspec": {
      "name": "python3",
      "display_name": "Python 3"
    },
    "language_info": {
      "name": "python"
    }
  },
  "cells": [
    {
      "cell_type": "markdown",
      "source": [
        "Q1"
      ],
      "metadata": {
        "id": "mCDYe1x7ubMO"
      }
    },
    {
      "cell_type": "code",
      "source": [
        "import numpy as np\n",
        "\n",
        "def cost_function(x, y, w):\n",
        "    \"\"\"\n",
        "    Calculate Mean Square Error.\n",
        "\n",
        "    Parameters:\n",
        "    x: Feature Matrix\n",
        "    y: Target Matrix\n",
        "    w: Weight Matrix\n",
        "\n",
        "    Returns:\n",
        "    float: Mean square error.\n",
        "    \"\"\"\n",
        "    n = len(y)\n",
        "    y_pred = np.dot(x, w)\n",
        "    squared_errors = np.square(y_pred - y)\n",
        "    cost = (1 / (2 * n)) * np.sum(squared_errors)\n",
        "    return cost\n",
        "\n",
        "# Test case\n",
        "x_test = np.array([[1, 2], [3, 4], [5, 6]])\n",
        "y_test = np.array([3, 7, 11])\n",
        "w_test = np.array([1, 1])\n",
        "cost = cost_function(x_test, y_test, w_test)\n",
        "if cost == 0:\n",
        "    print(\"Proceed further\")\n",
        "else:\n",
        "    print(\"Something went wrong reimplement a cost function.\")\n",
        "print(\"Cost function output is: \", cost_function(x_test, y_test, w_test))\n"
      ],
      "metadata": {
        "colab": {
          "base_uri": "https://localhost:8080/"
        },
        "id": "fhaE4QiSuxF6",
        "outputId": "8b08ca00-f248-47dd-8788-d02402fa10f2"
      },
      "execution_count": null,
      "outputs": [
        {
          "output_type": "stream",
          "name": "stdout",
          "text": [
            "Proceed further\n",
            "Cost function output is:  0.0\n"
          ]
        }
      ]
    },
    {
      "cell_type": "markdown",
      "source": [
        "Q2"
      ],
      "metadata": {
        "id": "Td78dTozvFjX"
      }
    },
    {
      "cell_type": "code",
      "source": [
        "import numpy as np\n",
        "\n",
        "def cost_function(X, Y, W):\n",
        "    \"\"\"\n",
        "    Compute mean square error.\n",
        "    \"\"\"\n",
        "    m = len(Y)\n",
        "    Y_pred = np.dot(X, W)\n",
        "    squared_errors = np.square(Y_pred - Y)\n",
        "    cost = (1 / (2 * m)) * np.sum(squared_errors)\n",
        "    return cost\n",
        "\n",
        "def gradient_descent(X, Y, W, alpha, iterations):\n",
        "    \"\"\"\n",
        "    Optimize linear regression parameters using gradient descent.\n",
        "    \"\"\"\n",
        "    cost_history = [0] * iterations\n",
        "    m = len(Y)\n",
        "    for iteration in range(iterations):\n",
        "        Y_pred = np.dot(X, W)\n",
        "        loss = Y_pred - Y\n",
        "        dw = (1 / m) * np.dot(X.T, loss)\n",
        "        W_update = W - alpha * dw\n",
        "        cost = cost_function(X, Y, W_update)\n",
        "        cost_history[iteration] = cost\n",
        "        W = W_update\n",
        "    return W_update, cost_history\n",
        "\n",
        "np.random.seed(0)\n",
        "X = np.random.rand(100, 3)\n",
        "Y = np.random.rand(100)\n",
        "W = np.random.rand(3)\n",
        "\n",
        "alpha = 0.01\n",
        "iterations = 1000\n",
        "\n",
        "final_params, cost_history = gradient_descent(X, Y, W, alpha, iterations)\n",
        "\n",
        "print(\"Final Parameters are:\", final_params)\n",
        "print(\"Cost History for first 10 values:\", cost_history[:10])\n"
      ],
      "metadata": {
        "colab": {
          "base_uri": "https://localhost:8080/"
        },
        "id": "LbFKbGPcueJ2",
        "outputId": "625939b9-666b-4c6a-b176-59526ca61e75"
      },
      "execution_count": null,
      "outputs": [
        {
          "output_type": "stream",
          "name": "stdout",
          "text": [
            "Final Parameters are: [0.20551667 0.54295081 0.10388027]\n",
            "Cost History for first 10 values: [0.10711197094660153, 0.10634880599939901, 0.10559826315680618, 0.10486012948320558, 0.1041341956428534, 0.10342025583900626, 0.1027181077540776, 0.1020275524908062, 0.10134839451441931, 0.1006804415957737]\n"
          ]
        }
      ]
    },
    {
      "cell_type": "markdown",
      "source": [
        "Q3"
      ],
      "metadata": {
        "id": "leLAKRjlvHbH"
      }
    },
    {
      "cell_type": "code",
      "source": [
        "import numpy as np\n",
        "\n",
        "def cost_function(X, Y, W):\n",
        "    \"\"\"\n",
        "    Calculate mean square error.\n",
        "    \"\"\"\n",
        "    m = len(Y)\n",
        "    Y_pred = np.dot(X, W)\n",
        "    squared_errors = np.square(Y_pred - Y)\n",
        "    cost = (1 / (2 * m)) * np.sum(squared_errors)\n",
        "    return cost\n",
        "\n",
        "def gradient_descent(X, Y, W, alpha, iterations):\n",
        "    \"\"\"\n",
        "    Optimize linear regression using gradient descent.\n",
        "    \"\"\"\n",
        "    cost_history = [0] * iterations\n",
        "    m = len(Y)\n",
        "    for iteration in range(iterations):\n",
        "        Y_pred = np.dot(X, W)\n",
        "        loss = Y_pred - Y\n",
        "        dw = (1 / m) * np.dot(X.T, loss)\n",
        "        W_update = W - alpha * dw\n",
        "        cost = cost_function(X, Y, W_update)\n",
        "        cost_history[iteration] = cost\n",
        "        W = W_update\n",
        "    return W_update, cost_history\n",
        "\n",
        "np.random.seed(0)\n",
        "X = np.random.rand(100, 3)\n",
        "Y = np.random.rand(100)\n",
        "W = np.random.rand(3)\n",
        "\n",
        "alpha = 0.01\n",
        "iterations = 1000\n",
        "\n",
        "final_params, cost_history = gradient_descent(X, Y, W, alpha, iterations)\n",
        "\n",
        "print(\"Final Parameters:\", final_params)\n",
        "print(\"Cost History (first 10 values):\", cost_history[:10])\n"
      ],
      "metadata": {
        "colab": {
          "base_uri": "https://localhost:8080/"
        },
        "id": "xq3dhrF_uogI",
        "outputId": "40cf6b8f-93fa-4b72-8641-385722584da1"
      },
      "execution_count": null,
      "outputs": [
        {
          "output_type": "stream",
          "name": "stdout",
          "text": [
            "Final Parameters: [0.20551667 0.54295081 0.10388027]\n",
            "Cost History (first 10 values): [0.10711197094660153, 0.10634880599939901, 0.10559826315680618, 0.10486012948320558, 0.1041341956428534, 0.10342025583900626, 0.1027181077540776, 0.1020275524908062, 0.10134839451441931, 0.1006804415957737]\n"
          ]
        }
      ]
    },
    {
      "cell_type": "markdown",
      "source": [
        "Q3"
      ],
      "metadata": {
        "id": "TkpkLhbjvg6l"
      }
    },
    {
      "cell_type": "code",
      "source": [
        "import numpy as np\n",
        "\n",
        "def rmse(y, y_pred):\n",
        "    \"\"\"\n",
        "    Calculate Root Mean Square Error.\n",
        "    \"\"\"\n",
        "    squared_diff = (y - y_pred) ** 2\n",
        "    mse = np.mean(squared_diff)\n",
        "    return np.sqrt(mse)\n",
        "\n",
        "def r2(y, y_pred):\n",
        "    \"\"\"\n",
        "    Calculate R Squared Error.\n",
        "    \"\"\"\n",
        "    mean_y = np.mean(y)\n",
        "    ss_tot = np.sum((y - mean_y) ** 2)\n",
        "    ss_res = np.sum((y - y_pred) ** 2)\n",
        "    return 1 - (ss_res / ss_tot)\n",
        "\n",
        "# Test case\n",
        "y = np.random.rand(100)\n",
        "y_pred = np.random.rand(100)\n",
        "\n",
        "rmse_value = rmse(y, y_pred)\n",
        "print(\" Root Mean Square Erro: \", rmse_value)\n",
        "\n",
        "r2_value = r2(y, y_pred)\n",
        "print(\"R Squared Error: \", r2_value)\n"
      ],
      "metadata": {
        "colab": {
          "base_uri": "https://localhost:8080/"
        },
        "id": "75Z0bfcgvR-6",
        "outputId": "29570957-9635-415a-ab5c-6a4d776bf03c"
      },
      "execution_count": null,
      "outputs": [
        {
          "output_type": "stream",
          "name": "stdout",
          "text": [
            " Root Mean Square Erro:  0.36251784563161704\n",
            "R Squared Error:  -0.6695399891053251\n"
          ]
        }
      ]
    }
  ]
}